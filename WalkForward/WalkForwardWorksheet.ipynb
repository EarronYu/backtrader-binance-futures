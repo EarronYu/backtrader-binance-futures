{
 "cells": [
  {
   "cell_type": "code",
   "execution_count": null,
   "metadata": {
    "pycharm": {
     "is_executing": true
    }
   },
   "outputs": [],
   "source": [
    "from __future__ import (absolute_import, division, print_function,\n",
    "                        unicode_literals)\n",
    "\n",
    "import pandas as pd\n",
    "import numpy as np\n",
    "import statsmodels.formula.api as sm\n",
    "import backtrader as bt\n",
    "import backtrader.talib as talib\n",
    "import backtrader.feeds as btfeeds\n",
    "import backtrader.feed\n",
    "import backtrader.indicators as btind\n",
    "import backtrader.analyzers as btanalyzers\n",
    "import backtrader.feeds as btfeeds\n",
    "import backtrader.strategies as btstrats\n",
    "import itertools\n",
    "from IPython.display import display, HTML\n",
    "import matplotlib.pyplot as plt\n",
    "import matplotlib.dates as mpdates\n",
    "import time;\n",
    "from datetime import timedelta \n",
    "import datetime\n",
    "from sklearn import linear_model\n",
    "import blackbox as bb\n",
    "import math\n",
    "from pprint import pprint\n",
    "from backtrader import Indicator\n",
    "import os\n",
    "\n",
    "candle_freq = '4Hour'\n",
    "coin_name = 'ETH'\n",
    "datapath = os.path.abspath('..') + '/Data/GDAX/'\n",
    "%tb"
   ]
  },
  {
   "cell_type": "code",
   "execution_count": null,
   "metadata": {
    "pycharm": {
     "is_executing": true
    }
   },
   "outputs": [],
   "source": [
    "candle_freq_to_seconds_map = {}\n",
    "candle_freq_to_seconds_map['1Min'] = 60\n",
    "candle_freq_to_seconds_map['3Min'] = 180\n",
    "candle_freq_to_seconds_map['5Min'] = 300\n",
    "candle_freq_to_seconds_map['15Min'] = 900\n",
    "candle_freq_to_seconds_map['1Hour'] = 3600\n",
    "candle_freq_to_seconds_map['4Hour'] = 14400\n",
    "candle_freq_to_seconds_map['6Hour'] = 21600"
   ]
  },
  {
   "cell_type": "markdown",
   "metadata": {},
   "source": [
    "\n"
   ]
  },
  {
   "cell_type": "markdown",
   "metadata": {},
   "source": [
    "### 1) First we do the preleminary in sample testing and make sure the results are same with the trading view results (without slippage and commissions)"
   ]
  },
  {
   "cell_type": "code",
   "execution_count": null,
   "metadata": {
    "pycharm": {
     "is_executing": true
    }
   },
   "outputs": [],
   "source": [
    "class AcctStats(bt.Analyzer):\n",
    "    \"\"\"A simple analyzer that gets the gain in the value of the account; should be self-explanatory\"\"\"\n",
    "\n",
    "    def __init__(self):\n",
    "        self.start_val = self.strategy.broker.get_value()\n",
    "        self.end_val = None\n",
    "\n",
    "    def stop(self):\n",
    "        self.end_val = self.strategy.broker.get_value()\n",
    "\n",
    "    def get_analysis(self):\n",
    "        return {\"start\": self.start_val, \"end\": self.end_val}"
   ]
  },
  {
   "cell_type": "code",
   "execution_count": null,
   "metadata": {
    "pycharm": {
     "is_executing": true
    }
   },
   "outputs": [],
   "source": [
    "class ValueStats(bt.Analyzer):\n",
    "    \"\"\"A simple analyzer that gets the gain in the value of the account; should be self-explanatory\"\"\"\n",
    "    val = []\n",
    "    \n",
    "    def __init__(self):\n",
    "        self.val = []\n",
    "\n",
    "    def next(self): \n",
    "        self.val.append(self.strategy.broker.get_value())\n",
    "        \n",
    "\n",
    "    def get_analysis(self):\n",
    "        return self.val"
   ]
  },
  {
   "cell_type": "code",
   "execution_count": null,
   "metadata": {
    "pycharm": {
     "is_executing": true
    }
   },
   "outputs": [],
   "source": [
    "class LinearRegression(Indicator):\n",
    "    alias = ('LR',)\n",
    "    \n",
    "    \n",
    "    lines = ('linear_regression','ma')\n",
    "    params = (\n",
    "        ('len', 300),\n",
    "    )\n",
    "    iter = 0 \n",
    "\n",
    "    def changeLen(self,length):\n",
    "        self.params.len = length\n",
    "        \n",
    "    def next(self):\n",
    "        if (self.iter > self.params.len):\n",
    "            raw_prices = self.data.get(size=self.params.len)\n",
    "            prices = np.array(raw_prices).reshape(-1, 1)\n",
    "            x_line = np.array([i for i in range(0, self.params.len)]).reshape(-1, 1)\n",
    "            # Create linear regression object\n",
    "            regr = linear_model.LinearRegression()\n",
    "            # Train the model using the training sets\n",
    "            regr.fit(x_line, prices)\n",
    "            prediction = regr.predict(np.array([self.params.len]).reshape(-1, 1))\n",
    "            self.lines.linear_regression[0] = prediction\n",
    "        self.iter += 1"
   ]
  },
  {
   "cell_type": "code",
   "execution_count": null,
   "metadata": {
    "pycharm": {
     "is_executing": true
    }
   },
   "outputs": [],
   "source": [
    "class MyStrategy(bt.Strategy):\n",
    "    \n",
    "    def_params = (\n",
    "        ('linear_reg_length', 20),\n",
    "    )\n",
    "    \n",
    "    params = (\n",
    "        ('interval_params', [(999999999999999.0, def_params)]),\n",
    "        ('printlog', False),\n",
    "        ('usable_cash_ratio' , 0.5),\n",
    "    )\n",
    "    def log(self, txt, dt=None, tm=None, doprint=False):\n",
    "        ''' Logging function fot this strategy'''\n",
    "        if self.params.printlog or doprint:\n",
    "            dt = dt or self.datas[0].datetime.date(0)\n",
    "            tm = tm or self.datas[0].datetime.time(0)\n",
    "            print('%s, %s, %s' % (dt, tm, txt))\n",
    "    \n",
    "    def get_params_for_time(self):\n",
    "        time_now_string = str(self.datas[0].datetime.date(0)).strip()\n",
    "        time_now = time.mktime(time.strptime(time_now_string, \"%Y-%m-%d\"));\n",
    "        if(self.sorted_params[self.interval_index][0] < time_now):\n",
    "            self.interval_index += 1\n",
    "            self.log('Params changed to : ' + str(self.sorted_params[self.interval_index][1]))\n",
    "        return self.sorted_params[self.interval_index][1]\n",
    "    \n",
    "    def __init__(self):\n",
    "        self.long = False\n",
    "        self.dataclose = self.datas[0].close\n",
    "        self.datalow = self.datas[0].low\n",
    "        self.sorted_params = sorted(self.params.interval_params)\n",
    "        self.cash_buffer = (self.broker.getvalue()*self.params.usable_cash_ratio)\n",
    "        self.interval_index = 0 \n",
    "        self.params_to_use = self.sorted_params[self.interval_index][1]\n",
    "        self.LR_low_trend = LinearRegression(self.datalow, len=self.params_to_use['linear_reg_length'])\n",
    "        self.LR_low_trend_to_use = self.LR_low_trend\n",
    "\n",
    "    def next(self):\n",
    "        self.params_to_use = self.get_params_for_time()\n",
    "        self.LR_low_trend.changeLen(self.params_to_use['linear_reg_length'])\n",
    "        if self.LR_low_trend_to_use < self.data.close and (not self.long):\n",
    "            self.size_to_buy = int((self.broker.getvalue()-self.cash_buffer) /  self.dataclose[0])\n",
    "            self.order = self.buy(exectype=bt.Order.Market, size=self.size_to_buy)\n",
    "            self.long = True\n",
    "\n",
    "        elif self.LR_low_trend_to_use > self.data.close and self.long:\n",
    "            self.order = self.sell(exectype=bt.Order.Market, size=self.size_to_buy)\n",
    "            self.long = False"
   ]
  },
  {
   "cell_type": "code",
   "execution_count": null,
   "metadata": {
    "pycharm": {
     "is_executing": true
    }
   },
   "outputs": [],
   "source": [
    "def getData(start_timestamp, end_timestamp):\n",
    "    path = datapath + str(coin_name) + '/' + str(candle_freq) + '.csv'\n",
    "    frame = pd.read_csv(path)\n",
    "    frame['time'] = pd.to_datetime(frame['time'], unit='s')\n",
    "    frame = frame[(frame['time'] >= pd.to_datetime(start_timestamp, unit='s')) \\\n",
    "                  & (frame['time'] <= pd.to_datetime(end_timestamp, unit='s'))]\n",
    "    frame = frame.sort_values(by=['time'])\n",
    "    frame = frame.rename(columns={'time': 'datetime'})\n",
    "    frame.set_index('datetime', inplace=True)\n",
    "\n",
    "    \n",
    "    return frame\n",
    "    "
   ]
  },
  {
   "cell_type": "code",
   "execution_count": null,
   "metadata": {
    "pycharm": {
     "is_executing": true
    }
   },
   "outputs": [],
   "source": [
    "def RunBackTest(coin_name,candle_freq,capital,start_timestamp,end_timestamp,params\\\n",
    "                                       ,shouldPlot=False, shouldPrint=False):\n",
    "\n",
    "    frame_to_add = getData(start_timestamp, end_timestamp)\n",
    "    pd_frame = bt.feeds.PandasData(dataname=frame_to_add)\n",
    "    # Create a cerebro entity\n",
    "    cerebro = bt.Cerebro()\n",
    "    # Add a strategy\n",
    "    cerebro.addstrategy(MyStrategy ,interval_params = params['interval_params']\\\n",
    "                                                                       ,printlog = shouldPrint)\n",
    "    # Set commision and slippage\n",
    "    if('slippage' in params):  \n",
    "        cerebro.broker.set_slippage_perc(perc=params['slippage'])\n",
    "    if('commision' in params):\n",
    "        cerebro.broker.setcommission(commission=params['commision'])\n",
    "\n",
    "    # Analyzer\n",
    "    cerebro.addanalyzer(btanalyzers.TradeAnalyzer, _name='TradeAnalysis')\n",
    "    cerebro.addanalyzer(btanalyzers.SharpeRatio,timeframe=bt.TimeFrame.Days,riskfreerate=0.0,\\\n",
    "                        _name='SharpeAnalysis')\n",
    "\n",
    "    cerebro.addanalyzer(btanalyzers.DrawDown , _name='DrawDownAnalysis') \n",
    "        \n",
    "    cerebro.addanalyzer(AcctStats, _name='ActualAnalysis')\n",
    "    \n",
    "    cerebro.addanalyzer(ValueStats, _name='ValueAnalysis')\n",
    "                        \n",
    "    cerebro.adddata(pd_frame)\n",
    "\n",
    "    cerebro.broker.setcash(capital)\n",
    "\n",
    "    starting_portfolio_value = cerebro.broker.getvalue()\n",
    "    # Print out the starting conditions\n",
    "    if(shouldPrint): print('Starting Portfolio Value: %.2f' % starting_portfolio_value)\n",
    "\n",
    "    # Run over everything\n",
    "    results = cerebro.run(runonce=False)\n",
    "    \n",
    "    ending_portfolio_value = cerebro.broker.getvalue()\n",
    "    # Print out the final result\n",
    "    if(shouldPrint): print('Final Portfolio Value: %.2f' % ending_portfolio_value)\n",
    "\n",
    "    result = results[0]\n",
    "    trade_anlaysis = result.analyzers.TradeAnalysis.get_analysis()\n",
    "    sharpe_anlaysis = result.analyzers.SharpeAnalysis.get_analysis()\n",
    "    #calmar_anlaysis = result.analyzers.CalmarAnalysis.get_analysis()\n",
    "    drawdown_analysis = result.analyzers.DrawDownAnalysis.get_analysis()\n",
    "    returns_anlaysis = result.analyzers.ActualAnalysis.get_analysis()\n",
    "    value_anlaysis = result.analyzers.ValueAnalysis.get_analysis()\n",
    "\n",
    "    try :\n",
    "        total_pnl = returns_anlaysis['end'] - returns_anlaysis['start'] # ending_portfolio_value - starting_portfolio_value # trade_anlaysis['pnl']['gross']['total']\n",
    "        num_won_trades = trade_anlaysis['won']['total']\n",
    "        num_lost_trades = trade_anlaysis['lost']['total']\n",
    "        \n",
    "        sharperatio = sharpe_anlaysis['sharperatio']\n",
    "\n",
    "        win_ratio = num_won_trades/(num_won_trades+num_lost_trades)\n",
    "        used_capital = (capital*0.5)\n",
    "        percentage_pnl = (total_pnl/ used_capital)*100\n",
    "        max_drawdown = drawdown_analysis['max']['drawdown']\n",
    "        calmarratio = percentage_pnl/math.sqrt((1+max_drawdown))\n",
    "        if(shouldPlot): cerebro.plot(iplot=False,style='candle')#,style='line')\n",
    "        return {'win_ratio':win_ratio, 'percentage_pnl':percentage_pnl,\\\n",
    "                'sharperatio': sharperatio, 'calmarratio' :calmarratio, 'trade_analysis':trade_anlaysis,\\\n",
    "               'value_anlaysis' : value_anlaysis}\n",
    "    except:\n",
    "        if(shouldPrint): print(\"Probably no trades were made\")\n",
    "        return {'win_ratio':1.0, 'percentage_pnl':0.0,'sharperatio' : 0.0, 'calmarratio' :-1.0\\\n",
    "                , 'trade_analysis':{}, 'value_anlaysis' : []}"
   ]
  },
  {
   "cell_type": "code",
   "execution_count": null,
   "metadata": {
    "scrolled": false,
    "pycharm": {
     "is_executing": true
    }
   },
   "outputs": [],
   "source": [
    "%matplotlib notebook\n",
    "tstart = time.mktime(time.strptime(\"20.01.2018 00:00:00\", \"%d.%m.%Y %H:%M:%S\"));\n",
    "tend = time.mktime(time.strptime(\"10.03.2019 11:05:02\", \"%d.%m.%Y %H:%M:%S\"));\n",
    "\n",
    "\n",
    "interval_params_one_time = time.mktime(time.strptime(\"01.02.2019 21:05:02\", \"%d.%m.%Y %H:%M:%S\"));\n",
    "interval_params_one = {}\n",
    "interval_params_one['linear_reg_length'] = 300\n",
    "\n",
    "\n",
    "\n",
    "interval_params_two_time = tend \n",
    "interval_params_two = {}\n",
    "interval_params_two['linear_reg_length'] = 300\n",
    "\n",
    "params={}\n",
    "params['interval_params'] = [(interval_params_one_time , interval_params_one),\\\n",
    "                            (interval_params_two_time , interval_params_two)]\n",
    "\n",
    "\n",
    "params['commision'] = 0\n",
    "params['slippage'] = 0\n",
    "\n",
    "\n",
    "max_lookback_buffer_param = max(interval_params_one.values())\n",
    "needed_lookback_buffer_in_seconds = max_lookback_buffer_param*candle_freq_to_seconds_map[candle_freq]\n",
    "\n",
    "\n",
    "start_date_with_buffer = tstart  - needed_lookback_buffer_in_seconds\n",
    "\n",
    "\n",
    "\n",
    "limitedEntryTestResult = RunBackTest(coin_name,candle_freq,200000.0,start_date_with_buffer,tend,params,True,True)\n",
    "\n",
    "\n",
    "print(limitedEntryTestResult['win_ratio'])\n",
    "print('PnL: ' + str(limitedEntryTestResult['percentage_pnl']) + '%')\n",
    "print(limitedEntryTestResult['sharperatio'])"
   ]
  },
  {
   "cell_type": "markdown",
   "metadata": {},
   "source": [
    "# Part 3 - Walk Forward Analysis"
   ]
  },
  {
   "cell_type": "code",
   "execution_count": null,
   "metadata": {
    "pycharm": {
     "is_executing": true
    }
   },
   "outputs": [],
   "source": [
    "def get_params_to_optimize_ranges(optimization_params, tstart, tend):\n",
    "    a = optimization_params['linear_reg_length']\n",
    "    b = [tstart,tstart]\n",
    "    c = [tend,tend]\n",
    "\n",
    "    list_values = [ a,b,c]\n",
    "\n",
    "    return list_values\n"
   ]
  },
  {
   "cell_type": "code",
   "execution_count": null,
   "metadata": {
    "pycharm": {
     "is_executing": true
    }
   },
   "outputs": [],
   "source": [
    "def getOptimizedParamsBlackBox(optimized_params):\n",
    "    params={}\n",
    "    params['linear_reg_length'] = int(optimized_params[0])\n",
    "    return params"
   ]
  },
  {
   "cell_type": "code",
   "execution_count": null,
   "metadata": {
    "pycharm": {
     "is_executing": true
    }
   },
   "outputs": [],
   "source": [
    "def BlackBoxParallelWalkForwardAnalysis(start_date, end_date, optimization_period, out_of_sample_period\\\n",
    "                                        ,optimization_params, param_n, param_m, param_batch, OptFun\\\n",
    "                                        ,unanchored = True ):\n",
    "    optimization_start_date = start_date - optimization_period\n",
    "    optimization_end_date   = start_date\n",
    "    \n",
    "    testing_start_date      = start_date\n",
    "    testing_end_date        = start_date + out_of_sample_period\n",
    "    \n",
    "    optimized_parameters = {}\n",
    "    out_of_sample_result = {}\n",
    "    \n",
    "    while optimization_end_date < end_date:\n",
    "        params_to_optimize_ranges = get_params_to_optimize_ranges(optimization_params\\\n",
    "                                                                  ,optimization_start_date\\\n",
    "                                                                  ,optimization_end_date)\n",
    "        \n",
    "        # Get the optimized params \n",
    "        optimization_start_date_key = str(time.strftime(\"%Y-%m-%d %H:%M:%S\",time.localtime(optimization_start_date)))\n",
    "        optimization_end_date_key = str(time.strftime(\"%Y-%m-%d %H:%M:%S\",time.localtime(optimization_end_date)))\n",
    "        optimization_key = optimization_start_date_key + \"_\" + optimization_end_date_key \n",
    "        print()\n",
    "        print(\"*****************************************\")\n",
    "        print()\n",
    "        print(\"Optimizing for :  \", optimization_start_date_key.split(\" \")[0], \" - \", \\\n",
    "              optimization_end_date_key.split(\" \")[0], \"  ....\" )\n",
    "        \n",
    "        # Run optimization for in Sample Period.\n",
    "        optimized_params = bb.search(f=OptFun,  # given function\n",
    "                  box=params_to_optimize_ranges,  # range of values for each parameter (2D case)\n",
    "                  n=param_n,  # number of function calls on initial stage (global search)\n",
    "                  m=param_m,  # number of function calls on subsequent stage (local search)\n",
    "                  batch=param_batch,  # number of calls that will be evaluated in parallel\n",
    "                  resfile= os.getcwd() + '/output.csv') \n",
    "                # text file where results will be saved\n",
    "\n",
    "\n",
    "        \n",
    "        # Get the top 10 performing params for later analysis.\n",
    "        optimized_parameters[optimization_key] = optimized_params[0:20]\n",
    "        \n",
    "        print(\"Optimization for start date : \"\\\n",
    "              + str(optimization_start_date_key)\\\n",
    "              + \" to end date : \" +\\\n",
    "              str(optimization_end_date_key)\\\n",
    "              + \" is completed.\")\n",
    "        print(\"testing dates for these optimization params are : \")\n",
    "        print(\"testing start date: \" + str(time.strftime(\"%Y-%m-%d %H:%M:%S\",time.localtime(testing_start_date))))\n",
    "        print(\"testing end date: \" + str(time.strftime(\"%Y-%m-%d %H:%M:%S\",time.localtime(testing_end_date))))\n",
    "        \n",
    "        if(unanchored):\n",
    "            optimization_start_date += out_of_sample_period\n",
    "            \n",
    "        optimization_end_date   += out_of_sample_period\n",
    "        \n",
    "        testing_start_date      += out_of_sample_period\n",
    "        testing_end_date        += out_of_sample_period\n",
    "        \n",
    "        \n",
    "    return {'optimized_parameters' : optimized_parameters\\\n",
    "            ,'out_of_sample_result' : out_of_sample_result}"
   ]
  },
  {
   "cell_type": "markdown",
   "metadata": {},
   "source": [
    "### BlackBox WalkForward"
   ]
  },
  {
   "cell_type": "markdown",
   "metadata": {},
   "source": [
    "#### optimization_period = timedelta(days=30) out_of_sample_period = timedelta(days=6) "
   ]
  },
  {
   "cell_type": "code",
   "execution_count": null,
   "metadata": {
    "pycharm": {
     "is_executing": true
    }
   },
   "outputs": [],
   "source": [
    "def convertOptParamsToInputParams(paramsToOptimize):\n",
    "    params={}\n",
    "    params['linear_reg_length'] = int(paramsToOptimize[0])\n",
    "    return params"
   ]
  },
  {
   "cell_type": "code",
   "execution_count": null,
   "metadata": {
    "pycharm": {
     "is_executing": true
    }
   },
   "outputs": [],
   "source": [
    "def opt_fun(paramsToOptimize):\n",
    "    \n",
    "    tstart = paramsToOptimize[1]\n",
    "    tend = paramsToOptimize[2]\n",
    "    \n",
    "    params=convertOptParamsToInputParams(paramsToOptimize)\n",
    "    interval_params=convertOptParamsToInputParams(paramsToOptimize)\n",
    "    \n",
    "    params['interval_params'] = [(tend, interval_params)]\n",
    "    params['commision'] = 0.0005\n",
    "    params['slippage'] = 0.001\n",
    "    \n",
    "    testResult = RunBackTest(coin_name,candle_freq,200000.0,tstart,tend\\\n",
    "                                                                ,params,False,False)\n",
    "    return -testResult['percentage_pnl']"
   ]
  },
  {
   "cell_type": "code",
   "execution_count": null,
   "metadata": {
    "pycharm": {
     "is_executing": true
    }
   },
   "outputs": [],
   "source": [
    "def getEquityCurve(WalkForwardAnalysisResults, start_ind):\n",
    "    \n",
    "    equity_curve = []\n",
    "    \n",
    "    \n",
    "    total_pnl = 100\n",
    "    trade_date_keys = sorted(WalkForwardAnalysisResults.iterkeys())\n",
    "    \n",
    "    \n",
    "    for ind , key in enumerate(trade_date_keys): \n",
    "        if(ind < start_ind) : continue\n",
    "        this_result = WalkForwardAnalysisResults[key]\n",
    "        this_pnl = (this_result['percentage_pnl'] +100)/100\n",
    "        total_pnl = total_pnl*this_pnl\n",
    "        equity_curve.append(total_pnl-100)\n",
    "    return equity_curve\n"
   ]
  },
  {
   "cell_type": "code",
   "execution_count": null,
   "metadata": {
    "pycharm": {
     "is_executing": true
    }
   },
   "outputs": [],
   "source": [
    "def getIntervalParamsFromOptimizedParams(optimized_params_list, out_of_sample_period, which_best):\n",
    "    \n",
    "    sorted_opt_params = sorted(optimized_params_list)\n",
    "    \n",
    "    interval_params = []\n",
    "    out_of_sample_start_date_with_buffer = 0\n",
    "    out_of_sample_start_date_to_log  = 0 \n",
    "    end_date = 0\n",
    "    \n",
    "    for optimization_date_key in sorted_opt_params:\n",
    "        optimized_params = optimized_params_list[optimization_date_key][which_best]\n",
    "        optimization_end_date_key = optimization_date_key.split('_')[1]\n",
    "\n",
    "        optimization_end_date = time.mktime(time.strptime(optimization_end_date_key, \"%Y-%m-%d %H:%M:%S\"));\n",
    "        out_of_sample_start_date = optimization_end_date \n",
    "        out_of_sample_end_date = out_of_sample_start_date + out_of_sample_period\n",
    "        optimized_params_for_this_run = getOptimizedParamsBlackBox(optimized_params)\n",
    "        \n",
    "        # This takes the first one and then never updates.\n",
    "        if(out_of_sample_start_date_with_buffer == 0): \n",
    "            #We need a warm start for the indicators to get ready.\n",
    "            max_lookback_buffer_param = max(optimized_params_for_this_run.values())\n",
    "            needed_lookback_buffer_in_seconds = max_lookback_buffer_param*candle_freq_to_seconds_map[candle_freq]\n",
    "\n",
    "            out_of_sample_start_date_with_buffer = out_of_sample_start_date  - needed_lookback_buffer_in_seconds\n",
    "            out_of_sample_start_date_to_log = out_of_sample_start_date\n",
    "        # This updates everytime and ends up with the last iteration.\n",
    "        end_date = out_of_sample_end_date\n",
    "        interval_params.append((out_of_sample_end_date, optimized_params_for_this_run ))\n",
    "    return [interval_params, out_of_sample_start_date_with_buffer, out_of_sample_start_date_to_log, end_date]"
   ]
  },
  {
   "cell_type": "code",
   "execution_count": null,
   "metadata": {
    "pycharm": {
     "is_executing": true
    }
   },
   "outputs": [],
   "source": [
    "def generateAlternateOutOfSampleResultsWithInterval(optimized_params_list, out_of_sample_period, top_best, shouldPlot):\n",
    "    out_of_sample_results = []\n",
    "    \n",
    "    for i in range(top_best):\n",
    "        out_of_sample_result = {}\n",
    "        print(\"Doing \" + str(i) + \" th best params\")\n",
    "        [out_of_sample_interval_params_for_this_run,\\\n",
    "        out_of_sample_start_date_with_buffer,\\\n",
    "        out_of_sample_start_date,\\\n",
    "        out_of_sample_end_date] = getIntervalParamsFromOptimizedParams(optimized_params_list, out_of_sample_period,i)\n",
    "        \n",
    "        optimized_params_for_this_run = {}\n",
    "        optimized_params_for_this_run['interval_params'] = out_of_sample_interval_params_for_this_run\n",
    "        optimized_params_for_this_run['commision'] =  0.0005\n",
    "        optimized_params_for_this_run['slippage']  = 0.001\n",
    "             \n",
    "        out_of_sample_end_date_key = str(time.strftime(\"%Y-%m-%d %H:%M:%S\",time.localtime(out_of_sample_end_date)))\n",
    "\n",
    "        out_of_sample_start_date_with_buffer_key =\\\n",
    "            str(time.strftime(\"%Y-%m-%d %H:%M:%S\",time.localtime(out_of_sample_start_date_with_buffer)))\n",
    "        out_of_sample_start_date_key =\\\n",
    "            str(time.strftime(\"%Y-%m-%d %H:%M:%S\",time.localtime(out_of_sample_start_date)))\n",
    "        \n",
    "        out_of_sample_key = out_of_sample_start_date_with_buffer_key +\\\n",
    "                            \"_\" + out_of_sample_end_date_key\n",
    "\n",
    "\n",
    "        # Run the out of sample Period with the optimized params\n",
    "        OutOfSampleResults = RunBackTest(coin_name\\\n",
    "                                                                ,candle_freq\\\n",
    "                                                                ,200000.0\\\n",
    "                                                                ,out_of_sample_start_date_with_buffer\\\n",
    "                                                                ,out_of_sample_end_date\\\n",
    "                                                                ,optimized_params_for_this_run\\\n",
    "                                                                ,shouldPlot\\\n",
    "                                                                ,False)\n",
    "        print(\"The interval end dates and params are: \")\n",
    "        for param in out_of_sample_interval_params_for_this_run:\n",
    "            print(str(time.strftime(\"%Y-%m-%d %H:%M:%S\", time.localtime(param[0]))) , param[1])\n",
    "            \n",
    "        print(\"Out of sample testing for start date \" + out_of_sample_start_date_key + \" and\" +\\\n",
    "              \" for the best : \" + str(i) + \"th param has finished!\")\n",
    "        print(\"Buffered Start Date was : \" + out_of_sample_start_date_with_buffer_key)\n",
    "        print()\n",
    "        print('***********************************')\n",
    "        print()\n",
    "        \n",
    "        out_of_sample_result[out_of_sample_key] = OutOfSampleResults\n",
    "        out_of_sample_results.append(out_of_sample_result)\n",
    "    return out_of_sample_results\n",
    "    "
   ]
  },
  {
   "cell_type": "markdown",
   "metadata": {},
   "source": [
    "## Walking Forward"
   ]
  },
  {
   "cell_type": "code",
   "execution_count": null,
   "metadata": {
    "scrolled": true,
    "pycharm": {
     "is_executing": true
    }
   },
   "outputs": [],
   "source": [
    "tstart = time.mktime(time.strptime(\"20.01.2018 00:00:00\", \"%d.%m.%Y %H:%M:%S\"));\n",
    "tend = time.mktime(time.strptime(\"10.03.2019 11:05:02\", \"%d.%m.%Y %H:%M:%S\"));\n",
    "\n",
    "optimization_period = timedelta(days=200).total_seconds()\n",
    "out_of_sample_period = timedelta(days=90).total_seconds()\n",
    "\n",
    "start_time = time.time()\n",
    "\n",
    "\n",
    "optimization_params={}\n",
    "optimization_params['linear_reg_length'] = [10,1000]\n",
    "optimization_params['commision'] = 0.0005\n",
    "optimization_params['slippage'] = 0.001\n",
    "\n",
    "WalkForwardAnalysisResultsPNLAll_LastYear = BlackBoxParallelWalkForwardAnalysis(tstart\\\n",
    "                                                      ,tend\\\n",
    "                                                      ,optimization_period\\\n",
    "                                                      ,out_of_sample_period\\\n",
    "                                                      ,optimization_params\\\n",
    "                                                      ,100\\\n",
    "                                                      ,100\\\n",
    "                                                      ,4\\\n",
    "                                                      ,opt_fun)\n",
    "\n",
    "end_time = time.time()\n",
    "\n",
    "print(str(time.strftime(\"%Y-%m-%d %H:%M:%S\", time.localtime(end_time))))\n",
    "\n",
    "print(\"Walk Forward Analysis Completed it took \")\n",
    "\n",
    "diff = end_time - start_time\n",
    "print(diff)\n",
    "print(\"Seconds\")\n"
   ]
  },
  {
   "cell_type": "code",
   "execution_count": null,
   "metadata": {
    "scrolled": true,
    "pycharm": {
     "is_executing": true
    }
   },
   "outputs": [],
   "source": [
    "out_of_sample_period = timedelta(days=90).total_seconds()\n",
    "\n",
    "interval_results_lastyear = generateAlternateOutOfSampleResultsWithInterval(WalkForwardAnalysisResultsPNLAll_LastYear['optimized_parameters']\\\n",
    "                                              ,out_of_sample_period,10, False)"
   ]
  },
  {
   "cell_type": "code",
   "execution_count": null,
   "metadata": {
    "pycharm": {
     "is_executing": true
    }
   },
   "outputs": [],
   "source": [
    "%matplotlib notebook\n",
    "\n",
    "capital = 100000\n",
    "\n",
    "value_to_plot = []\n",
    "end_values = []\n",
    "\n",
    "first_n = 10\n",
    "\n",
    "for ind, result in enumerate(interval_results_lastyear):\n",
    "    if(ind>first_n): break\n",
    "    for key in result: # there is only 1 value\n",
    "        value_to_plot = ((np.array(result[key]['value_anlaysis']) - capital) /capital)*100\n",
    "        end_values.append(value_to_plot[-1])\n",
    "        plt.plot(value_to_plot, label='equity_curve' + str(ind))\n",
    "plt.legend()\n",
    "plt.show()\n",
    "\n",
    "plt.figure()\n",
    "plt.plot(end_values,'*')\n",
    "plt.show()\n",
    "\n",
    "print(end_values)\n",
    "print('average: ' + str(sum(end_values)/len(end_values)))\n",
    "print('min: ' + str(min(end_values)))\n",
    "print('max: ' + str(max(end_values)))"
   ]
  }
 ],
 "metadata": {
  "kernelspec": {
   "name": "pycharm-a45eb1e2",
   "language": "python",
   "display_name": "PyCharm (WalkForwardBacktrader)"
  },
  "language_info": {
   "codemirror_mode": {
    "name": "ipython",
    "version": 3
   },
   "file_extension": ".py",
   "mimetype": "text/x-python",
   "name": "python",
   "nbconvert_exporter": "python",
   "pygments_lexer": "ipython3",
   "version": "3.7.3"
  }
 },
 "nbformat": 4,
 "nbformat_minor": 2
}